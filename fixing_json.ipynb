{
 "cells": [
  {
   "cell_type": "code",
   "execution_count": 5,
   "id": "a33d9c68-1392-4443-a2fb-c04deb5a98a5",
   "metadata": {},
   "outputs": [
    {
     "name": "stdout",
     "output_type": "stream",
     "text": [
      "✅ Updated URLs saved to 'nslt_leaveout_user11_updated2.json'\n",
      "✅ Fixed backslashes to forward slashes in URLs\n"
     ]
    }
   ],
   "source": [
    "import json\n",
    "import os\n",
    "\n",
    "in_path = \"nslt_leaveout_user11.json\"         \n",
    "out_path = \"nslt_leaveout_user11_updated2.json\"  \n",
    "\n",
    "with open(in_path, \"r\") as f:\n",
    "    data = json.load(f)\n",
    "\n",
    "for vid_key, vid_info in data.items():\n",
    "    if \"url\" in vid_info and not vid_info[\"url\"].startswith(\"WLASL/\"):\n",
    "        vid_info[\"url\"] = \"WLASL/\" + vid_info[\"url\"]\n",
    "\n",
    "with open(out_path, \"w\") as f:\n",
    "    json.dump(data, f, indent=4)\n",
    "\n",
    "print(f\"✅ Updated URLs saved to '{out_path}'\")\n",
    "\n",
    "with open(out_path, \"r\") as f:\n",
    "    data = json.load(f)\n",
    "\n",
    "# Replace backslashes with forward slashes in URLs\n",
    "for vid_key, vid_info in data.items():\n",
    "    if \"url\" in vid_info:\n",
    "        vid_info[\"url\"] = vid_info[\"url\"].replace(\"\\\\\", \"/\")\n",
    "\n",
    "with open(out_path, \"w\") as f:\n",
    "    json.dump(data, f, indent=4)\n",
    "\n",
    "print(\"✅ Fixed backslashes to forward slashes in URLs\")\n"
   ]
  },
  {
   "cell_type": "code",
   "execution_count": 10,
   "id": "7475c33b-19f9-4aac-86c6-bdd8ab9843d6",
   "metadata": {},
   "outputs": [
    {
     "name": "stdout",
     "output_type": "stream",
     "text": [
      "✅ Updated JSON with correct frame ranges.\n"
     ]
    }
   ],
   "source": [
    "import cv2\n",
    "\n",
    "out_path = \"nslt_leaveout_user11_updated.json\"\n",
    "\n",
    "root = \"\"\n",
    "with open(out_path, \"r\") as f:\n",
    "    data = json.load(f)\n",
    "\n",
    "    for vid_key, vid_info in data.items():\n",
    "        path = os.path.normpath(vid_info[\"url\"])\n",
    "        \n",
    "        if not os.path.exists(path):\n",
    "            print(f\"Missing video: {path}\")\n",
    "            continue  # skip this video\n",
    "        \n",
    "        cap = cv2.VideoCapture(path)\n",
    "        frame_count = int(cap.get(cv2.CAP_PROP_FRAME_COUNT))\n",
    "        cap.release()\n",
    "        \n",
    "        if frame_count == 0:\n",
    "            print(f\"Warning: video {path} has 0 frames, skipping\")\n",
    "            continue\n",
    "    \n",
    "        vid_info[\"action\"][1] = 0\n",
    "        vid_info[\"action\"][2] = frame_count - 1\n",
    "\n",
    "# write changes back to JSON\n",
    "with open(out_path, \"w\") as f:\n",
    "    json.dump(data, f, indent=4)\n",
    "\n",
    "print(\"✅ Updated JSON with correct frame ranges.\")"
   ]
  },
  {
   "cell_type": "code",
   "execution_count": 4,
   "id": "3807d936-c953-46ed-aebc-7697010ac18e",
   "metadata": {},
   "outputs": [
    {
     "name": "stdout",
     "output_type": "stream",
     "text": [
      "Flipped entries added to dataset.\n"
     ]
    }
   ],
   "source": [
    "import json\n",
    "import os\n",
    "\n",
    "# Load your JSON\n",
    "with open(\"nslt_leaveout_user11_updated.json\", \"r\") as f:\n",
    "    data = json.load(f)\n",
    "\n",
    "new_entries = {}\n",
    "\n",
    "for key, value in data.items():\n",
    "    # Skip non-user entries if needed\n",
    "    if not isinstance(value, dict) or \"url\" not in value:\n",
    "        continue\n",
    "    \n",
    "    # Make a copy\n",
    "    flipped_key = key + \"_flipped\"\n",
    "    flipped_value = value.copy()\n",
    "    \n",
    "    # Update URL to point to flipped video\n",
    "    url_path, ext = os.path.splitext(flipped_value[\"url\"])\n",
    "    flipped_value[\"url\"] = f\"{url_path}_flipped{ext}\"\n",
    "    \n",
    "    # Add to new entries dict\n",
    "    new_entries[flipped_key] = flipped_value\n",
    "\n",
    "# Add flipped entries to original data\n",
    "data.update(new_entries)\n",
    "\n",
    "# Save updated dataset\n",
    "with open(\"nslt_leaveout_user11_updated_flipped.json\", \"w\") as f:\n",
    "    json.dump(data, f, indent=4)\n",
    "\n",
    "print(\"Flipped entries added to dataset.\")\n"
   ]
  }
 ],
 "metadata": {
  "kernelspec": {
   "display_name": "Python (myenv)",
   "language": "python",
   "name": "myenv"
  },
  "language_info": {
   "codemirror_mode": {
    "name": "ipython",
    "version": 3
   },
   "file_extension": ".py",
   "mimetype": "text/x-python",
   "name": "python",
   "nbconvert_exporter": "python",
   "pygments_lexer": "ipython3",
   "version": "3.10.12"
  }
 },
 "nbformat": 4,
 "nbformat_minor": 5
}
